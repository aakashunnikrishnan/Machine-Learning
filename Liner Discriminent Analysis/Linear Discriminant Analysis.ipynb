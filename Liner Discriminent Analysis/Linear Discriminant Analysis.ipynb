{
 "cells": [
  {
   "cell_type": "code",
   "execution_count": 1,
   "metadata": {},
   "outputs": [],
   "source": [
    "import numpy as np \n",
    "import matplotlib.pyplot as plt\n",
    "import seaborn as sns"
   ]
  },
  {
   "cell_type": "code",
   "execution_count": 2,
   "metadata": {},
   "outputs": [],
   "source": [
    "from sklearn import datasets\n",
    "wine = datasets.load_wine()\n",
    "X, y = wine.data, wine.target"
   ]
  },
  {
   "cell_type": "code",
   "execution_count": 11,
   "metadata": {},
   "outputs": [],
   "source": [
    "class LDA:\n",
    "    \n",
    "     \n",
    "    def fit(self, X, y):\n",
    "        \n",
    "        self.N, self.D = X.shape\n",
    "        self.X = X\n",
    "        self.y = y\n",
    "         \n",
    "        self.unique_y, unique_y_counts = np.unique(self.y, return_counts = True) # returns unique y and counts\n",
    "        self.pi_ks = unique_y_counts/self.N\n",
    "        \n",
    "        self.mu_ks = []\n",
    "        self.Sigma = np.zeros((self.D, self.D))        \n",
    "        for i, k in enumerate(self.unique_y):\n",
    "            \n",
    "            X_k = self.X[self.y == k]\n",
    "            mu_k = X_k.mean(0).reshape(self.D, 1)\n",
    "            self.mu_ks.append(mu_k)\n",
    "\n",
    "            for x_n in X_k:\n",
    "                x_n = x_n.reshape(-1,1)\n",
    "                x_n_minus_mu_k = (x_n - mu_k)\n",
    "                self.Sigma += np.dot(x_n_minus_mu_k, x_n_minus_mu_k.T)\n",
    "            \n",
    "        self.Sigma /= self.N\n",
    "        \n",
    "        \n",
    "    def _mvn_density(self, x_n, mu_k, Sigma):\n",
    "        x_n_minus_mu_k = (x_n - mu_k)\n",
    "        density = np.exp(-(1/2)*x_n_minus_mu_k.T @ np.linalg.inv(Sigma) @ x_n_minus_mu_k)\n",
    "        return density\n",
    "            \n",
    "    def classify(self, X_test):\n",
    "        \n",
    "        y_n = np.empty(len(X_test))\n",
    "        for i, x_n in enumerate(X_test):\n",
    "            \n",
    "            x_n = x_n.reshape(-1, 1)\n",
    "            p_ks = np.empty(len(self.unique_y))\n",
    "        \n",
    "            for j, k in enumerate(self.unique_y):\n",
    "                p_x_given_y = self._mvn_density(x_n, self.mu_ks[j], self.Sigma)\n",
    "                p_y_given_x = self.pi_ks[j]*p_x_given_y\n",
    "                p_ks[j] = p_y_given_x\n",
    "            \n",
    "            y_n[i] = self.unique_y[np.argmax(p_ks)]\n",
    "        \n",
    "        return y_n"
   ]
  },
  {
   "cell_type": "code",
   "execution_count": 15,
   "metadata": {},
   "outputs": [
    {
     "data": {
      "text/plain": [
       "1.0"
      ]
     },
     "execution_count": 15,
     "metadata": {},
     "output_type": "execute_result"
    }
   ],
   "source": [
    "lda = LDA()\n",
    "lda.fit(X, y)\n",
    "yhat = lda.classify(X)\n",
    "np.mean(yhat == y)"
   ]
  },
  {
   "cell_type": "code",
   "execution_count": 17,
   "metadata": {},
   "outputs": [],
   "source": [
    "def graph_boundaries(X, model, model_title, n0 = 100, n1 = 100, figsize = (7, 5), label_every = 4):\n",
    "        \n",
    "        d0_range = np.linspace(X[:,0].min(), X[:,0].max(), n0)\n",
    "        d1_range = np.linspace(X[:,1].min(), X[:,1].max(), n1)\n",
    "        X_plot = np.array(np.meshgrid(d0_range, d1_range)).T.reshape(-1, 2)\n",
    "        \n",
    "        y_plot = model.classify(X_plot).astype(int)\n",
    "        \n",
    "        fig, ax = plt.subplots(figsize = figsize)\n",
    "        sns.heatmap(y_plot.reshape(n0, n1).T,\n",
    "                   cmap = sns.color_palette('Pastel1', 3),\n",
    "                   cbar_kws = {'ticks':sorted(np.unique(y_plot))})\n",
    "        xticks, yticks = ax.get_xticks(), ax.get_yticks()\n",
    "        ax.set(xticks = xticks[::label_every], xticklabels = d0_range.round(2)[::label_every],\n",
    "               yticks = yticks[::label_every], yticklabels = d1_range.round(2)[::label_every])\n",
    "        ax.set(xlabel = 'X1', ylabel = 'X2', title = model_title + ' Predictions by X1 and X2')\n",
    "        ax.set_xticklabels(ax.get_xticklabels(), rotation=0)"
   ]
  },
  {
   "cell_type": "code",
   "execution_count": 18,
   "metadata": {},
   "outputs": [
    {
     "data": {
      "image/png": "[encoded data removed]",
      "text/plain": [
       "<Figure size 504x360 with 2 Axes>"
      ]
     },
     "metadata": {},
     "output_type": "display_data"
    }
   ],
   "source": [
    "X_2d = X.copy()[:,2:4]\n",
    "lda_2d = LDA()\n",
    "lda_2d.fit(X_2d, y)\n",
    "graph_boundaries(X_2d, lda_2d, 'LDA')"
   ]
  },
  {
   "cell_type": "code",
   "execution_count": null,
   "metadata": {},
   "outputs": [],
   "source": []
  }
 ],
 "metadata": {
  "kernelspec": {
   "display_name": "Python 3",
   "language": "python",
   "name": "python3"
  },
  "language_info": {
   "codemirror_mode": {
    "name": "ipython",
    "version": 3
   },
   "file_extension": ".py",
   "mimetype": "text/x-python",
   "name": "python",
   "nbconvert_exporter": "python",
   "pygments_lexer": "ipython3",
   "version": "3.6.10"
  }
 },
 "nbformat": 4,
 "nbformat_minor": 2
}
